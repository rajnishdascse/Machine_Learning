{
  "nbformat": 4,
  "nbformat_minor": 0,
  "metadata": {
    "colab": {
      "name": "Wine classification",
      "provenance": [],
      "authorship_tag": "ABX9TyOosiXz20ffaih8gm35k6NO",
      "include_colab_link": true
    },
    "kernelspec": {
      "name": "python3",
      "display_name": "Python 3"
    },
    "language_info": {
      "name": "python"
    }
  },
  "cells": [
    {
      "cell_type": "markdown",
      "metadata": {
        "id": "view-in-github",
        "colab_type": "text"
      },
      "source": [
        "<a href=\"https://colab.research.google.com/github/rajnishdascse/Machine_Learning/blob/gh-pages/Wine_classification.ipynb\" target=\"_parent\"><img src=\"https://colab.research.google.com/assets/colab-badge.svg\" alt=\"Open In Colab\"/></a>"
      ]
    },
    {
      "cell_type": "markdown",
      "metadata": {
        "id": "pi6mgq5jA4v1"
      },
      "source": [
        "\n",
        "#This is a machine learning model on classification of different wines\n",
        "\n"
      ]
    },
    {
      "cell_type": "code",
      "metadata": {
        "id": "Y0aEAvnBxn8I"
      },
      "source": [
        "from sklearn import datasets\n",
        "import matplotlib.pyplot as plt\n",
        "import math\n",
        "from sklearn.preprocessing import StandardScaler"
      ],
      "execution_count": 17,
      "outputs": []
    },
    {
      "cell_type": "markdown",
      "metadata": {
        "id": "7dSlXj-5ByLf"
      },
      "source": [
        "#Load the data"
      ]
    },
    {
      "cell_type": "code",
      "metadata": {
        "id": "PPRCU84pzes8"
      },
      "source": [
        "wine = datasets.load_wine()"
      ],
      "execution_count": 3,
      "outputs": []
    },
    {
      "cell_type": "code",
      "metadata": {
        "id": "3-952lapzr8i"
      },
      "source": [
        "print(wine.DESCR)"
      ],
      "execution_count": null,
      "outputs": []
    },
    {
      "cell_type": "code",
      "metadata": {
        "colab": {
          "base_uri": "https://localhost:8080/"
        },
        "id": "4Sonszgc05aR",
        "outputId": "7fb3f507-3edc-4959-889a-083199609bae"
      },
      "source": [
        "wine.data.shape"
      ],
      "execution_count": 6,
      "outputs": [
        {
          "output_type": "execute_result",
          "data": {
            "text/plain": [
              "(178, 13)"
            ]
          },
          "metadata": {
            "tags": []
          },
          "execution_count": 6
        }
      ]
    },
    {
      "cell_type": "code",
      "metadata": {
        "colab": {
          "base_uri": "https://localhost:8080/"
        },
        "id": "axRdjZjZ1AmP",
        "outputId": "bbc2447a-4b28-45b6-dc7e-ea2bfce2f34b"
      },
      "source": [
        "wine.feature_names"
      ],
      "execution_count": 7,
      "outputs": [
        {
          "output_type": "execute_result",
          "data": {
            "text/plain": [
              "['alcohol',\n",
              " 'malic_acid',\n",
              " 'ash',\n",
              " 'alcalinity_of_ash',\n",
              " 'magnesium',\n",
              " 'total_phenols',\n",
              " 'flavanoids',\n",
              " 'nonflavanoid_phenols',\n",
              " 'proanthocyanins',\n",
              " 'color_intensity',\n",
              " 'hue',\n",
              " 'od280/od315_of_diluted_wines',\n",
              " 'proline']"
            ]
          },
          "metadata": {
            "tags": []
          },
          "execution_count": 7
        }
      ]
    },
    {
      "cell_type": "code",
      "metadata": {
        "colab": {
          "base_uri": "https://localhost:8080/"
        },
        "id": "pVz3NTbR1Hfz",
        "outputId": "d18f8eb4-7d99-4fba-c96c-298e1dc3aa87"
      },
      "source": [
        "wine.target_names"
      ],
      "execution_count": 8,
      "outputs": [
        {
          "output_type": "execute_result",
          "data": {
            "text/plain": [
              "array(['class_0', 'class_1', 'class_2'], dtype='<U7')"
            ]
          },
          "metadata": {
            "tags": []
          },
          "execution_count": 8
        }
      ]
    },
    {
      "cell_type": "code",
      "metadata": {
        "id": "muVQyEFx1OCV"
      },
      "source": [
        "wine.data[0:5]"
      ],
      "execution_count": null,
      "outputs": []
    },
    {
      "cell_type": "code",
      "metadata": {
        "id": "s394TQWX1TiO"
      },
      "source": [
        "wine.target"
      ],
      "execution_count": null,
      "outputs": []
    },
    {
      "cell_type": "code",
      "metadata": {
        "colab": {
          "base_uri": "https://localhost:8080/"
        },
        "id": "PCgSQ0P81Xj9",
        "outputId": "1d3d54ad-7955-4a09-c3a8-411c0f2d8716"
      },
      "source": [
        "len(wine.data)"
      ],
      "execution_count": null,
      "outputs": [
        {
          "output_type": "execute_result",
          "data": {
            "text/plain": [
              "178"
            ]
          },
          "metadata": {
            "tags": []
          },
          "execution_count": 12
        }
      ]
    },
    {
      "cell_type": "markdown",
      "metadata": {
        "id": "1OAhKHLqCrA3"
      },
      "source": [
        "#Plot Alcohol and Malic acid Wine Visualization"
      ]
    },
    {
      "cell_type": "code",
      "metadata": {
        "id": "9X_QI-B_0BD2",
        "colab": {
          "base_uri": "https://localhost:8080/",
          "height": 312
        },
        "outputId": "dcec39b1-1507-4e67-a1f5-d77566235da7"
      },
      "source": [
        "X = wine.data[:, :2]\n",
        "\n",
        "Y = wine.target\n",
        "\n",
        "plt.scatter(X[:,0], X[:,1], c=Y)\n",
        "plt.xlabel('Alcohol')\n",
        "plt.ylabel('Malic Acid')\n",
        "plt.title('Wine Feature Distribution')"
      ],
      "execution_count": 11,
      "outputs": [
        {
          "output_type": "execute_result",
          "data": {
            "text/plain": [
              "Text(0.5, 1.0, 'Wine Feature Distribution')"
            ]
          },
          "metadata": {
            "tags": []
          },
          "execution_count": 11
        },
        {
          "output_type": "display_data",
          "data": {
            "image/png": "[encoded data removed]",
            "text/plain": [
              "<Figure size 432x288 with 1 Axes>"
            ]
          },
          "metadata": {
            "tags": [],
            "needs_background": "light"
          }
        }
      ]
    },
    {
      "cell_type": "markdown",
      "metadata": {
        "id": "VWNVQzGaC53g"
      },
      "source": [
        "#Sigmoid function"
      ]
    },
    {
      "cell_type": "code",
      "metadata": {
        "colab": {
          "base_uri": "https://localhost:8080/",
          "height": 312
        },
        "id": "DnWSa0-ZC9RE",
        "outputId": "2bb540c8-e9b8-4eba-ee1a-8bf50ac8cc7d"
      },
      "source": [
        "def sigmoid(z):\n",
        "  return 1.0/(1.0+ math.e**(-z))\n",
        "\n",
        "x = [i *0.1 for i in range(-50, 51)]\n",
        "y = [sigmoid(z) for z in x]\n",
        "plt.plot(x,y)\n",
        "plt.xlabel('x')\n",
        "plt.ylabel('y')\n",
        "plt.title('Logistic Sigmoid')"
      ],
      "execution_count": 12,
      "outputs": [
        {
          "output_type": "execute_result",
          "data": {
            "text/plain": [
              "Text(0.5, 1.0, 'Logistic Sigmoid')"
            ]
          },
          "metadata": {
            "tags": []
          },
          "execution_count": 12
        },
        {
          "output_type": "display_data",
          "data": {
            "image/png": "[encoded data removed]",
            "text/plain": [
              "<Figure size 432x288 with 1 Axes>"
            ]
          },
          "metadata": {
            "tags": [],
            "needs_background": "light"
          }
        }
      ]
    },
    {
      "cell_type": "markdown",
      "metadata": {
        "id": "ZH-N6HkID35d"
      },
      "source": [
        "#Prediction"
      ]
    },
    {
      "cell_type": "code",
      "metadata": {
        "id": "zINo-JG6D62x"
      },
      "source": [
        "def predict(sample):\n",
        "  result = 0\n",
        "  for i in range(len(sample)):\n",
        "    result = result + weights[i]* sample[i]\n",
        "\n",
        "  result = result+bias\n",
        "  return sigmoid(result)"
      ],
      "execution_count": 28,
      "outputs": []
    },
    {
      "cell_type": "markdown",
      "metadata": {
        "id": "eGwqoJjIEU9q"
      },
      "source": [
        "#Lost and cost function"
      ]
    },
    {
      "cell_type": "code",
      "metadata": {
        "id": "zFJmgsDdEUd1"
      },
      "source": [
        "def loss(y_train, y_predicted):\n",
        "  return -(y_train*math.log(y_predicted)+ (1.0 - y_train)* math.log(1-y_predicted))"
      ],
      "execution_count": 18,
      "outputs": []
    },
    {
      "cell_type": "markdown",
      "metadata": {
        "id": "W_7fIQA3PS_p"
      },
      "source": [
        "#Backpropagation"
      ]
    },
    {
      "cell_type": "code",
      "metadata": {
        "id": "fBysaFLjEdm3"
      },
      "source": [
        "num_features = wine.data.shape[1]\n",
        "\n",
        "def train_one_epoch(x_train_sample, y_train_sample):\n",
        "  cost = 0.0\n",
        "  dw = [0.0]*num_features\n",
        "  db = 0.0\n",
        "\n",
        "  global bias, weights\n",
        "\n",
        "  m = len(x_train_samples)\n",
        "  for i in range(m):\n",
        "    x_sample = x_train_sample[i]\n",
        "    y_sample = y_train_sample[i]\n",
        "    predicted = predict(x_sample)\n",
        "    cost = cost+ loss(y_sample, predicted)\n",
        "\n",
        "    #dz is derivative of loss function\n",
        "    dz = predicted - y_sample\n",
        "\n",
        "    for j in range(len(weights)):\n",
        "      dw[j] = dw[j]+x_sample[j]*dz\n",
        "    db = db+dz\n",
        "\n",
        "    cost = cost/m\n",
        "    db = db/m\n",
        "    bias = bias - learning_rate*db\n",
        "  for j in range(len(weights)):\n",
        "    dw[j] = dw[j]/m\n",
        "    weights[j] = weights[j] - learning_rate*dw[j]\n",
        "\n",
        "  return cost\n"
      ],
      "execution_count": 19,
      "outputs": []
    },
    {
      "cell_type": "markdown",
      "metadata": {
        "id": "rss8LJCnRCQN"
      },
      "source": [
        "#Training Model"
      ]
    },
    {
      "cell_type": "code",
      "metadata": {
        "colab": {
          "base_uri": "https://localhost:8080/",
          "height": 295
        },
        "id": "teJPfkQWQ-dz",
        "outputId": "fe921d9a-e9d6-44c8-ba78-aaf8fcd7939f"
      },
      "source": [
        "\n",
        "weights = [0.0] * num_features\n",
        "bias = 0.0\n",
        "\n",
        "learning_rate = 0.1\n",
        "\n",
        "epochs = 2000\n",
        "\n",
        "scaler = StandardScaler()\n",
        "x_train_samples = scaler.fit_transform(wine.data)\n",
        "y_train_samples = [1 if y == 2 else 0 for y in wine.target]\n",
        "\n",
        "loss_array = []\n",
        "for epoch in range(epochs):\n",
        "  loss_value = train_one_epoch(x_train_samples, y_train_samples)\n",
        "  loss_array.append(loss_value)\n",
        "\n",
        "plt.plot(range(epochs), loss_array)\n",
        "plt.ylabel('Loss')\n",
        "plt.xlabel('Epoch')\n",
        "plt.title('Loss vs. Epoch')\n",
        "plt.show()"
      ],
      "execution_count": 24,
      "outputs": [
        {
          "output_type": "display_data",
          "data": {
            "image/png": "[encoded data removed]",
            "text/plain": [
              "<Figure size 432x288 with 1 Axes>"
            ]
          },
          "metadata": {
            "tags": [],
            "needs_background": "light"
          }
        }
      ]
    },
    {
      "cell_type": "markdown",
      "metadata": {
        "id": "aEgXVsg29pJI"
      },
      "source": [
        "#Make Prediction"
      ]
    },
    {
      "cell_type": "code",
      "metadata": {
        "colab": {
          "base_uri": "https://localhost:8080/",
          "height": 296
        },
        "id": "vBKPN9Jn98GB",
        "outputId": "4049f574-4d20-45b0-c1e5-622fab3bd881"
      },
      "source": [
        "predictions =[]\n",
        "m= len(x_train_samples)\n",
        "correct = 0\n",
        "for i in range(m):\n",
        "  sample = x_train_samples[i]\n",
        "  value = predict(sample)\n",
        "  predictions.append(value)\n",
        "  if value >=0.5:\n",
        "    value =1\n",
        "  else:\n",
        "      value = 0\n",
        "  if value == y_train_samples[i]:\n",
        "      correct = correct + 1.0\n",
        "  \n",
        "plt.plot(range(m), predictions, label = 'Predicted')\n",
        "plt.plot(range(m), y_train_samples, label = 'Ground truth')\n",
        "plt.ylabel('Predictions')\n",
        "plt.xlabel('Sample')\n",
        "plt.legend(loc= 'best')\n",
        "plt.show()\n",
        "\n",
        "print('Accuracy: %.2f %%'%(100*correct/m))"
      ],
      "execution_count": 34,
      "outputs": [
        {
          "output_type": "display_data",
          "data": {
            "image/png": "[encoded data removed]",
            "text/plain": [
              "<Figure size 432x288 with 1 Axes>"
            ]
          },
          "metadata": {
            "tags": [],
            "needs_background": "light"
          }
        },
        {
          "output_type": "stream",
          "text": [
            "Accuracy: 100.00 %\n"
          ],
          "name": "stdout"
        }
      ]
    },
    {
      "cell_type": "code",
      "metadata": {
        "colab": {
          "base_uri": "https://localhost:8080/"
        },
        "id": "JAl2G4CV_9S8",
        "outputId": "e729be35-f8fb-42de-87cd-5b207a3711f2"
      },
      "source": [
        "weights"
      ],
      "execution_count": 35,
      "outputs": [
        {
          "output_type": "execute_result",
          "data": {
            "text/plain": [
              "[0.649734005723441,\n",
              " 0.4989214500398145,\n",
              " 0.7607992460349687,\n",
              " 0.460577827525838,\n",
              " 0.17217416082931786,\n",
              " -0.22135040946058587,\n",
              " -1.9072092885130756,\n",
              " -0.30168481044389867,\n",
              " -0.5664413573711404,\n",
              " 2.134522514624847,\n",
              " -1.4664840166109525,\n",
              " -1.3054955232048828,\n",
              " 0.06734821031767299]"
            ]
          },
          "metadata": {
            "tags": []
          },
          "execution_count": 35
        }
      ]
    },
    {
      "cell_type": "code",
      "metadata": {
        "colab": {
          "base_uri": "https://localhost:8080/"
        },
        "id": "eldD6kQ9ADqL",
        "outputId": "d98b9a3d-1870-4329-9991-56bc076a007d"
      },
      "source": [
        "bias"
      ],
      "execution_count": 36,
      "outputs": [
        {
          "output_type": "execute_result",
          "data": {
            "text/plain": [
              "-3.2419531965384016"
            ]
          },
          "metadata": {
            "tags": []
          },
          "execution_count": 36
        }
      ]
    }
  ]
}