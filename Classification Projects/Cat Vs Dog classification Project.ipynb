{
 "cells": [
  {
   "cell_type": "code",
   "execution_count": 1,
   "id": "0d2b41e5",
   "metadata": {},
   "outputs": [],
   "source": [
    "import tensorflow as tf\n",
    "from keras.preprocessing.image import ImageDataGenerator"
   ]
  },
  {
   "cell_type": "markdown",
   "id": "d475b3c6",
   "metadata": {},
   "source": [
    "# Data Preprocessing"
   ]
  },
  {
   "cell_type": "code",
   "execution_count": 2,
   "id": "5d643b2e",
   "metadata": {},
   "outputs": [
    {
     "name": "stdout",
     "output_type": "stream",
     "text": [
      "Found 22497 images belonging to 2 classes.\n"
     ]
    }
   ],
   "source": [
    "train_datagen = ImageDataGenerator(\n",
    "        rescale=1./255,\n",
    "        shear_range=0.2,\n",
    "        zoom_range=0.2,\n",
    "        horizontal_flip=True)\n",
    "\n",
    "train_generator = train_datagen.flow_from_directory(\n",
    "        'Downloads/Dataset/training_set',\n",
    "        target_size=(64, 64),\n",
    "        batch_size=32,\n",
    "        class_mode='binary')"
   ]
  },
  {
   "cell_type": "code",
   "execution_count": 3,
   "id": "56df89cb",
   "metadata": {},
   "outputs": [
    {
     "name": "stdout",
     "output_type": "stream",
     "text": [
      "Found 2501 images belonging to 2 classes.\n"
     ]
    }
   ],
   "source": [
    "test_datagen = ImageDataGenerator(rescale=1./255)\n",
    "validation_generator = test_datagen.flow_from_directory(\n",
    "        'Downloads/Dataset/test_set',\n",
    "        target_size=(64, 64),\n",
    "        batch_size=32,\n",
    "        class_mode='binary')"
   ]
  },
  {
   "cell_type": "markdown",
   "id": "4af354d6",
   "metadata": {},
   "source": [
    "# Build CNN Model"
   ]
  },
  {
   "cell_type": "code",
   "execution_count": 4,
   "id": "58e713b3",
   "metadata": {},
   "outputs": [],
   "source": [
    "#initialize\n",
    "cnn = tf.keras.models.Sequential()\n",
    "\n",
    "#add convolution\n",
    "cnn.add(tf.keras.layers.Conv2D(filters=32, kernel_size=3, activation ='relu', input_shape =[64,64,3]))"
   ]
  },
  {
   "cell_type": "markdown",
   "id": "ac46cb23",
   "metadata": {},
   "source": [
    "# Pooling"
   ]
  },
  {
   "cell_type": "code",
   "execution_count": 5,
   "id": "b87d2d50",
   "metadata": {},
   "outputs": [],
   "source": [
    "cnn.add(tf.keras.layers.MaxPool2D(pool_size=2,strides=2))"
   ]
  },
  {
   "cell_type": "code",
   "execution_count": 6,
   "id": "f00bb7d8",
   "metadata": {},
   "outputs": [],
   "source": [
    "#add one more layer\n",
    "\n",
    "cnn.add(tf.keras.layers.Conv2D(filters=32,kernel_size=3,activation='relu'))\n",
    "\n",
    "cnn.add(tf.keras.layers.MaxPool2D(pool_size=2,strides=2))"
   ]
  },
  {
   "cell_type": "markdown",
   "id": "28ba502f",
   "metadata": {},
   "source": [
    "# Flatten"
   ]
  },
  {
   "cell_type": "code",
   "execution_count": 7,
   "id": "e41c2062",
   "metadata": {},
   "outputs": [],
   "source": [
    "cnn.add(tf.keras.layers.Flatten())"
   ]
  },
  {
   "cell_type": "code",
   "execution_count": 8,
   "id": "e97cbb09",
   "metadata": {},
   "outputs": [],
   "source": [
    "#full Connection\n",
    "cnn.add(tf.keras.layers.Dense(units=128, activation='relu'))"
   ]
  },
  {
   "cell_type": "code",
   "execution_count": 9,
   "id": "2498aff0",
   "metadata": {},
   "outputs": [],
   "source": [
    "#output layer\n",
    "cnn.add(tf.keras.layers.Dense(units=1,activation='sigmoid'))"
   ]
  },
  {
   "cell_type": "code",
   "execution_count": 10,
   "id": "72985cd4",
   "metadata": {},
   "outputs": [],
   "source": [
    "#Compile the model\n",
    "cnn.compile(optimizer='adam', loss='binary_crossentropy', metrics=['accuracy'])"
   ]
  },
  {
   "cell_type": "markdown",
   "id": "041c124a",
   "metadata": {},
   "source": [
    "# Train Model"
   ]
  },
  {
   "cell_type": "code",
   "execution_count": 23,
   "id": "67e0962a",
   "metadata": {},
   "outputs": [
    {
     "name": "stdout",
     "output_type": "stream",
     "text": [
      "Epoch 1/10\n",
      "704/704 [==============================] - 392s 557ms/step - loss: 0.4349 - accuracy: 0.7947 - val_loss: 0.4362 - val_accuracy: 0.7973\n",
      "Epoch 2/10\n",
      "704/704 [==============================] - 366s 520ms/step - loss: 0.4161 - accuracy: 0.8080 - val_loss: 0.4203 - val_accuracy: 0.8073\n",
      "Epoch 3/10\n",
      "704/704 [==============================] - 360s 511ms/step - loss: 0.4030 - accuracy: 0.8168 - val_loss: 0.4322 - val_accuracy: 0.8057\n",
      "Epoch 4/10\n",
      "704/704 [==============================] - 357s 507ms/step - loss: 0.3916 - accuracy: 0.8227 - val_loss: 0.4427 - val_accuracy: 0.7981\n",
      "Epoch 5/10\n",
      "704/704 [==============================] - 358s 508ms/step - loss: 0.3939 - accuracy: 0.8195 - val_loss: 0.4930 - val_accuracy: 0.7893\n",
      "Epoch 6/10\n",
      "704/704 [==============================] - 362s 514ms/step - loss: 0.3610 - accuracy: 0.8386 - val_loss: 0.4188 - val_accuracy: 0.8113\n",
      "Epoch 7/10\n",
      "704/704 [==============================] - 355s 505ms/step - loss: 0.3536 - accuracy: 0.8425 - val_loss: 0.3900 - val_accuracy: 0.8277\n",
      "Epoch 8/10\n",
      "704/704 [==============================] - 352s 500ms/step - loss: 0.3495 - accuracy: 0.8439 - val_loss: 0.3993 - val_accuracy: 0.8261\n",
      "Epoch 9/10\n",
      "704/704 [==============================] - 352s 500ms/step - loss: 0.3311 - accuracy: 0.8537 - val_loss: 0.3993 - val_accuracy: 0.8213\n",
      "Epoch 10/10\n",
      "704/704 [==============================] - 359s 510ms/step - loss: 0.3215 - accuracy: 0.8580 - val_loss: 0.3944 - val_accuracy: 0.8293\n"
     ]
    }
   ],
   "source": [
    "history= cnn.fit(x=train_generator, validation_data = validation_generator,epochs=10)"
   ]
  },
  {
   "cell_type": "code",
   "execution_count": 12,
   "id": "6aa108c0",
   "metadata": {},
   "outputs": [],
   "source": [
    "#if there are any corrupted images on the dataset following code will show it which are the corrupted images\n",
    "\n",
    "import PIL\n",
    "from pathlib import Path\n",
    "from PIL import UnidentifiedImageError\n",
    "\n",
    "path = Path(\"Downloads/Dataset\").rglob(\"*.jpg\")\n",
    "for img_p in path:\n",
    "    try:\n",
    "        img = PIL.Image.open(img_p)\n",
    "    except PIL.UnidentifiedImageError:\n",
    "            print(img_p)"
   ]
  },
  {
   "cell_type": "code",
   "execution_count": 24,
   "id": "ff7b8d93",
   "metadata": {},
   "outputs": [],
   "source": [
    "# make singke prediction\n",
    "\n",
    "import numpy as np\n",
    "from keras.preprocessing import image\n",
    "test_image = image.load_img('Downloads/Dataset/single_prediction/12.jpg', target_size=(64,64))  #to predict the image specify the file name\n",
    "test_image = image.img_to_array(test_image)\n",
    "test_image = np.expand_dims(test_image,axis=0)\n",
    "result = cnn.predict(test_image)\n",
    "train_generator.class_indices\n",
    "if result[0][0]==1:\n",
    "    prediction = 'Dog'\n",
    "else:\n",
    "    prediction = 'Cat'\n"
   ]
  },
  {
   "cell_type": "code",
   "execution_count": 25,
   "id": "31fdefa0",
   "metadata": {},
   "outputs": [
    {
     "data": {
      "text/plain": [
       "'Dog'"
      ]
     },
     "execution_count": 25,
     "metadata": {},
     "output_type": "execute_result"
    }
   ],
   "source": [
    "prediction   #single prediction check"
   ]
  },
  {
   "cell_type": "code",
   "execution_count": 29,
   "id": "9fc47bc5",
   "metadata": {},
   "outputs": [
    {
     "name": "stdout",
     "output_type": "stream",
     "text": [
      "dict_keys(['loss', 'accuracy', 'val_loss', 'val_accuracy'])\n"
     ]
    }
   ],
   "source": [
    "import matplotlib.pyplot as plt\n",
    "print(history.history.keys())"
   ]
  },
  {
   "cell_type": "code",
   "execution_count": 30,
   "id": "e16fc61d",
   "metadata": {},
   "outputs": [
    {
     "data": {
      "text/plain": [
       "[<matplotlib.lines.Line2D at 0x18f5a9b35b0>]"
      ]
     },
     "execution_count": 30,
     "metadata": {},
     "output_type": "execute_result"
    },
    {
     "data": {
      "image/png": "[encoded data removed]",
      "text/plain": [
       "<Figure size 432x288 with 1 Axes>"
      ]
     },
     "metadata": {
      "needs_background": "light"
     },
     "output_type": "display_data"
    }
   ],
   "source": [
    "plt.plot(history.history['accuracy'])"
   ]
  },
  {
   "cell_type": "code",
   "execution_count": 40,
   "id": "d7864d90",
   "metadata": {},
   "outputs": [
    {
     "data": {
      "text/plain": [
       "[<matplotlib.lines.Line2D at 0x18f5760bd60>]"
      ]
     },
     "execution_count": 40,
     "metadata": {},
     "output_type": "execute_result"
    },
    {
     "data": {
      "image/png": "[encoded data removed]",
      "text/plain": [
       "<Figure size 432x288 with 1 Axes>"
      ]
     },
     "metadata": {
      "needs_background": "light"
     },
     "output_type": "display_data"
    }
   ],
   "source": [
    "plt.plot(history.history['accuracy'])\n",
    "plt.plot(history.history['val_loss'])\n",
    "plt.plot(history.history['val_accuracy'])"
   ]
  },
  {
   "cell_type": "code",
   "execution_count": null,
   "id": "9cc6559d",
   "metadata": {},
   "outputs": [],
   "source": []
  }
 ],
 "metadata": {
  "kernelspec": {
   "display_name": "Python 3",
   "language": "python",
   "name": "python3"
  },
  "language_info": {
   "codemirror_mode": {
    "name": "ipython",
    "version": 3
   },
   "file_extension": ".py",
   "mimetype": "text/x-python",
   "name": "python",
   "nbconvert_exporter": "python",
   "pygments_lexer": "ipython3",
   "version": "3.8.8"
  }
 },
 "nbformat": 4,
 "nbformat_minor": 5
}
