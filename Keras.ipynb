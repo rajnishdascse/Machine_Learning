{
  "nbformat": 4,
  "nbformat_minor": 0,
  "metadata": {
    "colab": {
      "name": "Keras.ipynb",
      "provenance": [],
      "authorship_tag": "ABX9TyP2qVrhQHwljXBLON4vuOtA",
      "include_colab_link": true
    },
    "kernelspec": {
      "name": "python3",
      "display_name": "Python 3"
    },
    "language_info": {
      "name": "python"
    }
  },
  "cells": [
    {
      "cell_type": "markdown",
      "metadata": {
        "id": "view-in-github",
        "colab_type": "text"
      },
      "source": [
        "<a href=\"https://colab.research.google.com/github/rajnishdascse/Machine_Learning/blob/gh-pages/Keras.ipynb\" target=\"_parent\"><img src=\"https://colab.research.google.com/assets/colab-badge.svg\" alt=\"Open In Colab\"/></a>"
      ]
    },
    {
      "cell_type": "markdown",
      "metadata": {
        "id": "E77BtHKBgOzy"
      },
      "source": [
        "#Keras\n",
        "Keras is a popular, high level deep learning library for Python. It can run on top of several lower level deep learning libraries, such as Tensorflow or Theano. Keras is now included as part of Tensorflow 2.0\n",
        "\n",
        "Keras was designed to be easy to use and intuitive for deep neural networks. Keras includes a number of commonly used layers, activation functions, and optimizers. A model can be defined and trained with just a few lines of Python code.\n",
        "\n",
        "Keras interoperates with Matplotlib and NumPy."
      ]
    },
    {
      "cell_type": "code",
      "metadata": {
        "id": "oB3FO8ceX4Mv"
      },
      "source": [
        "%tensorflow_version 2.x"
      ],
      "execution_count": 26,
      "outputs": []
    },
    {
      "cell_type": "code",
      "metadata": {
        "id": "5ppZ1iwUYLhZ"
      },
      "source": [
        "from tensorflow.keras.models import Sequential\n",
        "from tensorflow.keras.layers import Dense, Activation\n",
        "from tensorflow.keras.optimizers import Adam\n",
        "from tensorflow.keras.models import model_from_json\n",
        "\n",
        "from matplotlib import pyplot as plt\n",
        "import numpy as np\n"
      ],
      "execution_count": 4,
      "outputs": []
    },
    {
      "cell_type": "markdown",
      "metadata": {
        "id": "Q_7E-8Dngbo7"
      },
      "source": [
        "#Learning a Mathematical Function\n",
        "\n",
        "The train and test data sets are generated using the function below. The number of training samples can be adjusted to explore model accuracy as a function of data set size."
      ]
    },
    {
      "cell_type": "code",
      "metadata": {
        "id": "XDz5kaEBZEHZ"
      },
      "source": [
        "def function(x):\n",
        "  return 10*x**2 - 5*x - 0.5"
      ],
      "execution_count": 8,
      "outputs": []
    },
    {
      "cell_type": "code",
      "metadata": {
        "id": "7og4VAO9ZM0i"
      },
      "source": [
        "#generate random test data\n",
        "\n",
        "x_train = np.random.rand(10000)\n",
        "y_train = function(x_train)\n",
        "\n",
        "x_test = np.linspace(0,1,100)\n",
        "y_test = function(x_test)"
      ],
      "execution_count": 9,
      "outputs": []
    },
    {
      "cell_type": "markdown",
      "metadata": {
        "id": "JTqDdnyQgrnT"
      },
      "source": [
        "#Visualize the Dataset\n"
      ]
    },
    {
      "cell_type": "code",
      "metadata": {
        "colab": {
          "base_uri": "https://localhost:8080/",
          "height": 279
        },
        "id": "Hv3a4Z2ZZ0It",
        "outputId": "625bd94a-fe46-45c1-e597-d2d47389671d"
      },
      "source": [
        "#visualize the data\n",
        "\n",
        "plt.scatter(x_train, y_train, label = 'Train' , color='blue')\n",
        "plt.plot(x_test, y_test, label=\"Test\", color=\"red\")\n",
        "plt.ylabel('y')\n",
        "plt.xlabel('x')\n",
        "plt.legend(loc='best')\n",
        "plt.show()"
      ],
      "execution_count": 11,
      "outputs": [
        {
          "output_type": "display_data",
          "data": {
            "image/png": "[encoded data removed]",
            "text/plain": [
              "<Figure size 432x288 with 1 Axes>"
            ]
          },
          "metadata": {
            "tags": [],
            "needs_background": "light"
          }
        }
      ]
    },
    {
      "cell_type": "markdown",
      "metadata": {
        "id": "3oxNkL0DgwPW"
      },
      "source": [
        "#Define the Model\n",
        "A basic, multilayer dense model with [Relu](en.wikipedia.org/wiki/Rectifier_(neural_networks)) activation functions is used. The output layer does not have an activation function in order to produce continuous output values.\n",
        "\n"
      ]
    },
    {
      "cell_type": "code",
      "metadata": {
        "id": "yqOepPVTabr4"
      },
      "source": [
        "#defined a sequential model\n",
        "\n",
        "model = Sequential()\n",
        "model.add(Dense(units=200, input_dim=1))\n",
        "model.add(Activation('relu'))\n",
        "model.add(Dense(units=20))\n",
        "model.add(Activation('relu'))\n",
        "model.add(Dense(units=1))\n"
      ],
      "execution_count": 15,
      "outputs": []
    },
    {
      "cell_type": "markdown",
      "metadata": {
        "id": "KwLQL533hCDE"
      },
      "source": [
        "#Training"
      ]
    },
    {
      "cell_type": "code",
      "metadata": {
        "colab": {
          "base_uri": "https://localhost:8080/"
        },
        "id": "943xlYSAbDUO",
        "outputId": "f77215ab-aac4-4a80-8c92-ace86f2a1006"
      },
      "source": [
        "#train the model with the fit method\n",
        "model.compile(loss='mean_squared_error', optimizer=Adam())\n",
        "history = model.fit(x_train, y_train, batch_size=50, epochs=10, verbose=1, validation_data=(x_test, y_test))\n"
      ],
      "execution_count": 17,
      "outputs": [
        {
          "output_type": "stream",
          "text": [
            "Epoch 1/10\n",
            "200/200 [==============================] - 1s 2ms/step - loss: 1.2477 - val_loss: 0.1096\n",
            "Epoch 2/10\n",
            "200/200 [==============================] - 0s 1ms/step - loss: 0.0375 - val_loss: 0.0137\n",
            "Epoch 3/10\n",
            "200/200 [==============================] - 0s 1ms/step - loss: 0.0083 - val_loss: 0.0061\n",
            "Epoch 4/10\n",
            "200/200 [==============================] - 0s 1ms/step - loss: 0.0042 - val_loss: 0.0035\n",
            "Epoch 5/10\n",
            "200/200 [==============================] - 0s 1ms/step - loss: 0.0024 - val_loss: 0.0021\n",
            "Epoch 6/10\n",
            "200/200 [==============================] - 0s 1ms/step - loss: 0.0014 - val_loss: 0.0012\n",
            "Epoch 7/10\n",
            "200/200 [==============================] - 0s 1ms/step - loss: 8.2996e-04 - val_loss: 7.6547e-04\n",
            "Epoch 8/10\n",
            "200/200 [==============================] - 0s 1ms/step - loss: 5.0867e-04 - val_loss: 4.7474e-04\n",
            "Epoch 9/10\n",
            "200/200 [==============================] - 0s 1ms/step - loss: 3.2333e-04 - val_loss: 3.1189e-04\n",
            "Epoch 10/10\n",
            "200/200 [==============================] - 0s 2ms/step - loss: 2.1320e-04 - val_loss: 2.0204e-04\n"
          ],
          "name": "stdout"
        }
      ]
    },
    {
      "cell_type": "markdown",
      "metadata": {
        "id": "UKFCuSOjhHW0"
      },
      "source": [
        "#Model Loss\n",
        "The loss is the difference between expected output (y_train) and model output. Lower loss values are better.\n",
        "\n"
      ]
    },
    {
      "cell_type": "code",
      "metadata": {
        "colab": {
          "base_uri": "https://localhost:8080/",
          "height": 295
        },
        "id": "oZnBdtTYcKxu",
        "outputId": "95febdd9-93b6-4b0b-c2fe-279af62ae325"
      },
      "source": [
        "plt.plot(history.history['loss'])\n",
        "plt.plot(history.history['val_loss'])\n",
        "plt.title('Model loss')\n",
        "plt.ylabel('Loss')\n",
        "plt.xlabel('Epoch')\n",
        "plt.legend(['Train','Test'],loc='best')\n",
        "plt.show()"
      ],
      "execution_count": 19,
      "outputs": [
        {
          "output_type": "display_data",
          "data": {
            "image/png": "[encoded data removed]",
            "text/plain": [
              "<Figure size 432x288 with 1 Axes>"
            ]
          },
          "metadata": {
            "tags": [],
            "needs_background": "light"
          }
        }
      ]
    },
    {
      "cell_type": "markdown",
      "metadata": {
        "id": "CaMamayjhMwj"
      },
      "source": [
        "#Predictions"
      ]
    },
    {
      "cell_type": "code",
      "metadata": {
        "id": "IPovxr7ydHoQ"
      },
      "source": [
        "#prediction\n",
        "y_predictions = model.predict(x_test)"
      ],
      "execution_count": 21,
      "outputs": []
    },
    {
      "cell_type": "code",
      "metadata": {
        "colab": {
          "base_uri": "https://localhost:8080/",
          "height": 279
        },
        "id": "DX9VgybSdUEl",
        "outputId": "6aeb730f-319c-4340-870b-c80731c1a487"
      },
      "source": [
        "#plot the predicted result and compare with the ground truth\n",
        "\n",
        "plt.scatter(x_test, y_predictions, label=\"Predictions\", color='blue')\n",
        "plt.plot(x_test, y_test, label=\"Test\", color=\"red\")\n",
        "plt.ylabel('y')\n",
        "plt.xlabel('x')\n",
        "plt.legend(loc='best')\n",
        "plt.show()"
      ],
      "execution_count": 22,
      "outputs": [
        {
          "output_type": "display_data",
          "data": {
            "image/png": "[encoded data removed]",
            "text/plain": [
              "<Figure size 432x288 with 1 Axes>"
            ]
          },
          "metadata": {
            "tags": [],
            "needs_background": "light"
          }
        }
      ]
    },
    {
      "cell_type": "markdown",
      "metadata": {
        "id": "fNEyvRmvfIY-"
      },
      "source": [
        "#Save the model\n",
        "The model structure and trained weights/biases can be saved to files. These can be reloaded later for prediction.\n",
        "\n"
      ]
    },
    {
      "cell_type": "code",
      "metadata": {
        "id": "xXm5IQJ4e4EP"
      },
      "source": [
        "model_structure = model.to_json()\n",
        "with open('model.json','w') as json_file:\n",
        "  json_file.write(model_structure)\n",
        "model.save_weights('weights.h5')"
      ],
      "execution_count": 23,
      "outputs": []
    },
    {
      "cell_type": "markdown",
      "metadata": {
        "id": "DGnCZutqfltN"
      },
      "source": [
        "#Restore the train model"
      ]
    },
    {
      "cell_type": "code",
      "metadata": {
        "id": "vjXqtjLXfpAN"
      },
      "source": [
        "with open('model.json', 'r') as json_file:\n",
        "  loaded_model_json = json_file.read()\n",
        "restored_model = model_from_json(loaded_model_json)\n",
        "restored_model.load_weights('weights.h5')"
      ],
      "execution_count": 24,
      "outputs": []
    },
    {
      "cell_type": "markdown",
      "metadata": {
        "id": "lAPFHuiigD3s"
      },
      "source": [
        "#Predictions\n",
        "Make predictions using the restored model. It should produce the same results as the original model.\n",
        "\n"
      ]
    },
    {
      "cell_type": "code",
      "metadata": {
        "colab": {
          "base_uri": "https://localhost:8080/",
          "height": 279
        },
        "id": "A-CAYJptgHek",
        "outputId": "5bd15b58-f687-4955-a319-87e89e8b5805"
      },
      "source": [
        "y_predictions = restored_model.predict(x_test, batch_size=1)\n",
        "\n",
        "plt.scatter(x_test, y_predictions, label='Predictions', color='blue')\n",
        "plt.plot(x_test, y_test, label='Test', color='red')\n",
        "plt.ylabel('y')\n",
        "plt.xlabel('x')\n",
        "plt.legend(loc='best')\n",
        "plt.show()"
      ],
      "execution_count": 25,
      "outputs": [
        {
          "output_type": "display_data",
          "data": {
            "image/png": "[encoded data removed]",
            "text/plain": [
              "<Figure size 432x288 with 1 Axes>"
            ]
          },
          "metadata": {
            "tags": [],
            "needs_background": "light"
          }
        }
      ]
    },
    {
      "cell_type": "code",
      "metadata": {
        "id": "7Q-nPMZBiXAd"
      },
      "source": [
        ""
      ],
      "execution_count": null,
      "outputs": []
    }
  ]
}