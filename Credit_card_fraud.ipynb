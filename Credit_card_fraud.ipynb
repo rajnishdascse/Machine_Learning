{
  "nbformat": 4,
  "nbformat_minor": 0,
  "metadata": {
    "colab": {
      "name": "Credit_card_fraud.ipynb",
      "provenance": [],
      "authorship_tag": "ABX9TyO/+mRslKhpISmw+vUk6NZD",
      "include_colab_link": true
    },
    "kernelspec": {
      "name": "python3",
      "display_name": "Python 3"
    },
    "language_info": {
      "name": "python"
    }
  },
  "cells": [
    {
      "cell_type": "markdown",
      "metadata": {
        "id": "view-in-github",
        "colab_type": "text"
      },
      "source": [
        "<a href=\"https://colab.research.google.com/github/rajnishdascse/Machine_Learning/blob/gh-pages/Credit_card_fraud.ipynb\" target=\"_parent\"><img src=\"https://colab.research.google.com/assets/colab-badge.svg\" alt=\"Open In Colab\"/></a>"
      ]
    },
    {
      "cell_type": "markdown",
      "metadata": {
        "id": "zc62Yor4qcrI"
      },
      "source": [
        "#Credit Card Fraud Detection\n",
        "\n",
        "The dataset contains transactions made by credit cards in September 2013 by european cardholders. This dataset represents transactions that occurred in two days, where we have 492 cases of fraud out of 284,807 transactions. The dataset is highly unbalanced, the positive class (known fraudulent transactions) account for only 0.172% of all transactions.\n",
        "\n",
        "An autoencoder is used as an unsupervised model to identify irregularities that might indicate fraud. It is imperfect, but works reasonably well.\n",
        "\n",
        "\n",
        "The data is available on Kaggle\n",
        "\n"
      ]
    },
    {
      "cell_type": "code",
      "metadata": {
        "id": "28oxOdxdpTM1"
      },
      "source": [
        "%tensorflow_version 2.x\n"
      ],
      "execution_count": 42,
      "outputs": []
    },
    {
      "cell_type": "code",
      "metadata": {
        "id": "ZlhINNJ0spR3"
      },
      "source": [
        "import pandas as pd\n",
        "import numpy as np\n",
        "import matplotlib.pyplot as plt\n",
        "import seaborn as sns\n",
        "from sklearn.model_selection import train_test_split\n",
        "from sklearn.preprocessing import StandardScaler\n",
        "from tensorflow.keras.models import Sequential, load_model\n",
        "from tensorflow.keras.layers import Dense\n",
        "from tensorflow.keras.callbacks import ModelCheckpoint\n",
        "from sklearn.metrics import confusion_matrix"
      ],
      "execution_count": 43,
      "outputs": []
    },
    {
      "cell_type": "markdown",
      "metadata": {
        "id": "G46fOqmGtM80"
      },
      "source": [
        "#Read Data\n",
        "\n",
        "The original data set is fairly large. To reduce experiment cycle time, a subset of of the data is used here."
      ]
    },
    {
      "cell_type": "code",
      "metadata": {
        "id": "wdVeaCbNtbGM",
        "colab": {
          "base_uri": "https://localhost:8080/"
        },
        "outputId": "44b8591a-474e-4a82-a980-339faaf3fe7a"
      },
      "source": [
        "data = pd.read_csv('creditcard.csv')    # we can upload unziped file too because panda can read zip files\n",
        "data = data.head(30000)\n",
        "data.shape"
      ],
      "execution_count": 44,
      "outputs": [
        {
          "output_type": "execute_result",
          "data": {
            "text/plain": [
              "(30000, 31)"
            ]
          },
          "metadata": {
            "tags": []
          },
          "execution_count": 44
        }
      ]
    },
    {
      "cell_type": "code",
      "metadata": {
        "id": "Sm54EgbGwUjU",
        "colab": {
          "base_uri": "https://localhost:8080/",
          "height": 224
        },
        "outputId": "711bbd63-a6e1-426e-8421-b9db3203fe15"
      },
      "source": [
        "data.head()"
      ],
      "execution_count": 45,
      "outputs": [
        {
          "output_type": "execute_result",
          "data": {
            "text/html": [
              "<div>\n",
              "<style scoped>\n",
              "    .dataframe tbody tr th:only-of-type {\n",
              "        vertical-align: middle;\n",
              "    }\n",
              "\n",
              "    .dataframe tbody tr th {\n",
              "        vertical-align: top;\n",
              "    }\n",
              "\n",
              "    .dataframe thead th {\n",
              "        text-align: right;\n",
              "    }\n",
              "</style>\n",
              "<table border=\"1\" class=\"dataframe\">\n",
              "  <thead>\n",
              "    <tr style=\"text-align: right;\">\n",
              "      <th></th>\n",
              "      <th>Time</th>\n",
              "      <th>V1</th>\n",
              "      <th>V2</th>\n",
              "      <th>V3</th>\n",
              "      <th>V4</th>\n",
              "      <th>V5</th>\n",
              "      <th>V6</th>\n",
              "      <th>V7</th>\n",
              "      <th>V8</th>\n",
              "      <th>V9</th>\n",
              "      <th>V10</th>\n",
              "      <th>V11</th>\n",
              "      <th>V12</th>\n",
              "      <th>V13</th>\n",
              "      <th>V14</th>\n",
              "      <th>V15</th>\n",
              "      <th>V16</th>\n",
              "      <th>V17</th>\n",
              "      <th>V18</th>\n",
              "      <th>V19</th>\n",
              "      <th>V20</th>\n",
              "      <th>V21</th>\n",
              "      <th>V22</th>\n",
              "      <th>V23</th>\n",
              "      <th>V24</th>\n",
              "      <th>V25</th>\n",
              "      <th>V26</th>\n",
              "      <th>V27</th>\n",
              "      <th>V28</th>\n",
              "      <th>Amount</th>\n",
              "      <th>Class</th>\n",
              "    </tr>\n",
              "  </thead>\n",
              "  <tbody>\n",
              "    <tr>\n",
              "      <th>0</th>\n",
              "      <td>0.0</td>\n",
              "      <td>-1.359807</td>\n",
              "      <td>-0.072781</td>\n",
              "      <td>2.536347</td>\n",
              "      <td>1.378155</td>\n",
              "      <td>-0.338321</td>\n",
              "      <td>0.462388</td>\n",
              "      <td>0.239599</td>\n",
              "      <td>0.098698</td>\n",
              "      <td>0.363787</td>\n",
              "      <td>0.090794</td>\n",
              "      <td>-0.551600</td>\n",
              "      <td>-0.617801</td>\n",
              "      <td>-0.991390</td>\n",
              "      <td>-0.311169</td>\n",
              "      <td>1.468177</td>\n",
              "      <td>-0.470401</td>\n",
              "      <td>0.207971</td>\n",
              "      <td>0.025791</td>\n",
              "      <td>0.403993</td>\n",
              "      <td>0.251412</td>\n",
              "      <td>-0.018307</td>\n",
              "      <td>0.277838</td>\n",
              "      <td>-0.110474</td>\n",
              "      <td>0.066928</td>\n",
              "      <td>0.128539</td>\n",
              "      <td>-0.189115</td>\n",
              "      <td>0.133558</td>\n",
              "      <td>-0.021053</td>\n",
              "      <td>149.62</td>\n",
              "      <td>0.0</td>\n",
              "    </tr>\n",
              "    <tr>\n",
              "      <th>1</th>\n",
              "      <td>0.0</td>\n",
              "      <td>1.191857</td>\n",
              "      <td>0.266151</td>\n",
              "      <td>0.166480</td>\n",
              "      <td>0.448154</td>\n",
              "      <td>0.060018</td>\n",
              "      <td>-0.082361</td>\n",
              "      <td>-0.078803</td>\n",
              "      <td>0.085102</td>\n",
              "      <td>-0.255425</td>\n",
              "      <td>-0.166974</td>\n",
              "      <td>1.612727</td>\n",
              "      <td>1.065235</td>\n",
              "      <td>0.489095</td>\n",
              "      <td>-0.143772</td>\n",
              "      <td>0.635558</td>\n",
              "      <td>0.463917</td>\n",
              "      <td>-0.114805</td>\n",
              "      <td>-0.183361</td>\n",
              "      <td>-0.145783</td>\n",
              "      <td>-0.069083</td>\n",
              "      <td>-0.225775</td>\n",
              "      <td>-0.638672</td>\n",
              "      <td>0.101288</td>\n",
              "      <td>-0.339846</td>\n",
              "      <td>0.167170</td>\n",
              "      <td>0.125895</td>\n",
              "      <td>-0.008983</td>\n",
              "      <td>0.014724</td>\n",
              "      <td>2.69</td>\n",
              "      <td>0.0</td>\n",
              "    </tr>\n",
              "    <tr>\n",
              "      <th>2</th>\n",
              "      <td>1.0</td>\n",
              "      <td>-1.358354</td>\n",
              "      <td>-1.340163</td>\n",
              "      <td>1.773209</td>\n",
              "      <td>0.379780</td>\n",
              "      <td>-0.503198</td>\n",
              "      <td>1.800499</td>\n",
              "      <td>0.791461</td>\n",
              "      <td>0.247676</td>\n",
              "      <td>-1.514654</td>\n",
              "      <td>0.207643</td>\n",
              "      <td>0.624501</td>\n",
              "      <td>0.066084</td>\n",
              "      <td>0.717293</td>\n",
              "      <td>-0.165946</td>\n",
              "      <td>2.345865</td>\n",
              "      <td>-2.890083</td>\n",
              "      <td>1.109969</td>\n",
              "      <td>-0.121359</td>\n",
              "      <td>-2.261857</td>\n",
              "      <td>0.524980</td>\n",
              "      <td>0.247998</td>\n",
              "      <td>0.771679</td>\n",
              "      <td>0.909412</td>\n",
              "      <td>-0.689281</td>\n",
              "      <td>-0.327642</td>\n",
              "      <td>-0.139097</td>\n",
              "      <td>-0.055353</td>\n",
              "      <td>-0.059752</td>\n",
              "      <td>378.66</td>\n",
              "      <td>0.0</td>\n",
              "    </tr>\n",
              "    <tr>\n",
              "      <th>3</th>\n",
              "      <td>1.0</td>\n",
              "      <td>-0.966272</td>\n",
              "      <td>-0.185226</td>\n",
              "      <td>1.792993</td>\n",
              "      <td>-0.863291</td>\n",
              "      <td>-0.010309</td>\n",
              "      <td>1.247203</td>\n",
              "      <td>0.237609</td>\n",
              "      <td>0.377436</td>\n",
              "      <td>-1.387024</td>\n",
              "      <td>-0.054952</td>\n",
              "      <td>-0.226487</td>\n",
              "      <td>0.178228</td>\n",
              "      <td>0.507757</td>\n",
              "      <td>-0.287924</td>\n",
              "      <td>-0.631418</td>\n",
              "      <td>-1.059647</td>\n",
              "      <td>-0.684093</td>\n",
              "      <td>1.965775</td>\n",
              "      <td>-1.232622</td>\n",
              "      <td>-0.208038</td>\n",
              "      <td>-0.108300</td>\n",
              "      <td>0.005274</td>\n",
              "      <td>-0.190321</td>\n",
              "      <td>-1.175575</td>\n",
              "      <td>0.647376</td>\n",
              "      <td>-0.221929</td>\n",
              "      <td>0.062723</td>\n",
              "      <td>0.061458</td>\n",
              "      <td>123.50</td>\n",
              "      <td>0.0</td>\n",
              "    </tr>\n",
              "    <tr>\n",
              "      <th>4</th>\n",
              "      <td>2.0</td>\n",
              "      <td>-1.158233</td>\n",
              "      <td>0.877737</td>\n",
              "      <td>1.548718</td>\n",
              "      <td>0.403034</td>\n",
              "      <td>-0.407193</td>\n",
              "      <td>0.095921</td>\n",
              "      <td>0.592941</td>\n",
              "      <td>-0.270533</td>\n",
              "      <td>0.817739</td>\n",
              "      <td>0.753074</td>\n",
              "      <td>-0.822843</td>\n",
              "      <td>0.538196</td>\n",
              "      <td>1.345852</td>\n",
              "      <td>-1.119670</td>\n",
              "      <td>0.175121</td>\n",
              "      <td>-0.451449</td>\n",
              "      <td>-0.237033</td>\n",
              "      <td>-0.038195</td>\n",
              "      <td>0.803487</td>\n",
              "      <td>0.408542</td>\n",
              "      <td>-0.009431</td>\n",
              "      <td>0.798278</td>\n",
              "      <td>-0.137458</td>\n",
              "      <td>0.141267</td>\n",
              "      <td>-0.206010</td>\n",
              "      <td>0.502292</td>\n",
              "      <td>0.219422</td>\n",
              "      <td>0.215153</td>\n",
              "      <td>69.99</td>\n",
              "      <td>0.0</td>\n",
              "    </tr>\n",
              "  </tbody>\n",
              "</table>\n",
              "</div>"
            ],
            "text/plain": [
              "   Time        V1        V2        V3  ...       V27       V28  Amount  Class\n",
              "0   0.0 -1.359807 -0.072781  2.536347  ...  0.133558 -0.021053  149.62    0.0\n",
              "1   0.0  1.191857  0.266151  0.166480  ... -0.008983  0.014724    2.69    0.0\n",
              "2   1.0 -1.358354 -1.340163  1.773209  ... -0.055353 -0.059752  378.66    0.0\n",
              "3   1.0 -0.966272 -0.185226  1.792993  ...  0.062723  0.061458  123.50    0.0\n",
              "4   2.0 -1.158233  0.877737  1.548718  ...  0.219422  0.215153   69.99    0.0\n",
              "\n",
              "[5 rows x 31 columns]"
            ]
          },
          "metadata": {
            "tags": []
          },
          "execution_count": 45
        }
      ]
    },
    {
      "cell_type": "markdown",
      "metadata": {
        "id": "9Wf6nvqbxhb_"
      },
      "source": [
        "0 for positive transaction and 1 for fraud transactions, v1, v2 are the card holder and in order to protect the confidentiality of the card holder information has been transformed using [Principal Component Analysis](https://en.wikipedia.org/wiki/Principal_component_analysis) (PCA)"
      ]
    },
    {
      "cell_type": "code",
      "metadata": {
        "id": "y65Bblm0wh_A",
        "colab": {
          "base_uri": "https://localhost:8080/",
          "height": 162
        },
        "outputId": "954ee2ca-bb67-4e2d-b3f5-b31ab155a9e6"
      },
      "source": [
        "data.groupby(['Class']).count()  "
      ],
      "execution_count": 46,
      "outputs": [
        {
          "output_type": "execute_result",
          "data": {
            "text/html": [
              "<div>\n",
              "<style scoped>\n",
              "    .dataframe tbody tr th:only-of-type {\n",
              "        vertical-align: middle;\n",
              "    }\n",
              "\n",
              "    .dataframe tbody tr th {\n",
              "        vertical-align: top;\n",
              "    }\n",
              "\n",
              "    .dataframe thead th {\n",
              "        text-align: right;\n",
              "    }\n",
              "</style>\n",
              "<table border=\"1\" class=\"dataframe\">\n",
              "  <thead>\n",
              "    <tr style=\"text-align: right;\">\n",
              "      <th></th>\n",
              "      <th>Time</th>\n",
              "      <th>V1</th>\n",
              "      <th>V2</th>\n",
              "      <th>V3</th>\n",
              "      <th>V4</th>\n",
              "      <th>V5</th>\n",
              "      <th>V6</th>\n",
              "      <th>V7</th>\n",
              "      <th>V8</th>\n",
              "      <th>V9</th>\n",
              "      <th>V10</th>\n",
              "      <th>V11</th>\n",
              "      <th>V12</th>\n",
              "      <th>V13</th>\n",
              "      <th>V14</th>\n",
              "      <th>V15</th>\n",
              "      <th>V16</th>\n",
              "      <th>V17</th>\n",
              "      <th>V18</th>\n",
              "      <th>V19</th>\n",
              "      <th>V20</th>\n",
              "      <th>V21</th>\n",
              "      <th>V22</th>\n",
              "      <th>V23</th>\n",
              "      <th>V24</th>\n",
              "      <th>V25</th>\n",
              "      <th>V26</th>\n",
              "      <th>V27</th>\n",
              "      <th>V28</th>\n",
              "      <th>Amount</th>\n",
              "    </tr>\n",
              "    <tr>\n",
              "      <th>Class</th>\n",
              "      <th></th>\n",
              "      <th></th>\n",
              "      <th></th>\n",
              "      <th></th>\n",
              "      <th></th>\n",
              "      <th></th>\n",
              "      <th></th>\n",
              "      <th></th>\n",
              "      <th></th>\n",
              "      <th></th>\n",
              "      <th></th>\n",
              "      <th></th>\n",
              "      <th></th>\n",
              "      <th></th>\n",
              "      <th></th>\n",
              "      <th></th>\n",
              "      <th></th>\n",
              "      <th></th>\n",
              "      <th></th>\n",
              "      <th></th>\n",
              "      <th></th>\n",
              "      <th></th>\n",
              "      <th></th>\n",
              "      <th></th>\n",
              "      <th></th>\n",
              "      <th></th>\n",
              "      <th></th>\n",
              "      <th></th>\n",
              "      <th></th>\n",
              "      <th></th>\n",
              "    </tr>\n",
              "  </thead>\n",
              "  <tbody>\n",
              "    <tr>\n",
              "      <th>0.0</th>\n",
              "      <td>29906</td>\n",
              "      <td>29906</td>\n",
              "      <td>29906</td>\n",
              "      <td>29906</td>\n",
              "      <td>29906</td>\n",
              "      <td>29906</td>\n",
              "      <td>29906</td>\n",
              "      <td>29906</td>\n",
              "      <td>29906</td>\n",
              "      <td>29906</td>\n",
              "      <td>29906</td>\n",
              "      <td>29906</td>\n",
              "      <td>29906</td>\n",
              "      <td>29906</td>\n",
              "      <td>29906</td>\n",
              "      <td>29906</td>\n",
              "      <td>29906</td>\n",
              "      <td>29906</td>\n",
              "      <td>29906</td>\n",
              "      <td>29906</td>\n",
              "      <td>29906</td>\n",
              "      <td>29906</td>\n",
              "      <td>29906</td>\n",
              "      <td>29906</td>\n",
              "      <td>29906</td>\n",
              "      <td>29906</td>\n",
              "      <td>29906</td>\n",
              "      <td>29906</td>\n",
              "      <td>29906</td>\n",
              "      <td>29906</td>\n",
              "    </tr>\n",
              "    <tr>\n",
              "      <th>1.0</th>\n",
              "      <td>94</td>\n",
              "      <td>94</td>\n",
              "      <td>94</td>\n",
              "      <td>94</td>\n",
              "      <td>94</td>\n",
              "      <td>94</td>\n",
              "      <td>94</td>\n",
              "      <td>94</td>\n",
              "      <td>94</td>\n",
              "      <td>94</td>\n",
              "      <td>94</td>\n",
              "      <td>94</td>\n",
              "      <td>94</td>\n",
              "      <td>94</td>\n",
              "      <td>94</td>\n",
              "      <td>94</td>\n",
              "      <td>94</td>\n",
              "      <td>94</td>\n",
              "      <td>94</td>\n",
              "      <td>94</td>\n",
              "      <td>94</td>\n",
              "      <td>94</td>\n",
              "      <td>94</td>\n",
              "      <td>94</td>\n",
              "      <td>94</td>\n",
              "      <td>94</td>\n",
              "      <td>94</td>\n",
              "      <td>94</td>\n",
              "      <td>94</td>\n",
              "      <td>94</td>\n",
              "    </tr>\n",
              "  </tbody>\n",
              "</table>\n",
              "</div>"
            ],
            "text/plain": [
              "        Time     V1     V2     V3     V4  ...    V25    V26    V27    V28  Amount\n",
              "Class                                     ...                                    \n",
              "0.0    29906  29906  29906  29906  29906  ...  29906  29906  29906  29906   29906\n",
              "1.0       94     94     94     94     94  ...     94     94     94     94      94\n",
              "\n",
              "[2 rows x 30 columns]"
            ]
          },
          "metadata": {
            "tags": []
          },
          "execution_count": 46
        }
      ]
    },
    {
      "cell_type": "markdown",
      "metadata": {
        "id": "CGRYKmMZy-sA"
      },
      "source": [
        "#Data Engineering\n",
        "\n",
        "The Time column is ignored and the Amount is normalized. All other columns remain the same.\n",
        "\n"
      ]
    },
    {
      "cell_type": "code",
      "metadata": {
        "id": "JjnX8iAkyCex"
      },
      "source": [
        "data = data.drop(['Time'], axis=1)\n",
        "data['Amount'] = StandardScaler().fit_transform(data['Amount'].values.reshape(-1, 1))"
      ],
      "execution_count": 47,
      "outputs": []
    },
    {
      "cell_type": "code",
      "metadata": {
        "id": "pf2H91uZzLPr",
        "colab": {
          "base_uri": "https://localhost:8080/"
        },
        "outputId": "d109f7d9-bca7-4eea-d7d0-25ebee35f56f"
      },
      "source": [
        "X_train, X_test = train_test_split(data, test_size=0.2, random_state=0)\n",
        "X_train = X_train.drop(['Class'], axis=1)\n",
        "y_test = X_test['Class']\n",
        "X_test = X_test.drop(['Class'], axis=1)\n",
        "X_train = X_train.values\n",
        "X_test = X_test.values\n",
        "X_train.shape"
      ],
      "execution_count": 48,
      "outputs": [
        {
          "output_type": "execute_result",
          "data": {
            "text/plain": [
              "(24000, 29)"
            ]
          },
          "metadata": {
            "tags": []
          },
          "execution_count": 48
        }
      ]
    },
    {
      "cell_type": "markdown",
      "metadata": {
        "id": "art5Uf5D2Fsm"
      },
      "source": [
        "#Autoencoder Model\n",
        "\n",
        "This is a standard dense autoencoder with four layers.\n",
        "\n"
      ]
    },
    {
      "cell_type": "code",
      "metadata": {
        "id": "JsviIhj62MQS",
        "colab": {
          "base_uri": "https://localhost:8080/"
        },
        "outputId": "652371d1-6751-4d38-8584-5db5fae8d66e"
      },
      "source": [
        "input_dim = X_train.shape[1]\n",
        "encoding_dim = 16    #14\n",
        "\n",
        "model = Sequential()\n",
        "model.add(Dense(encoding_dim, activation=\"tanh\", input_shape=(input_dim,)))\n",
        "model.add(Dense(int(encoding_dim / 2), activation=\"relu\"))\n",
        "model.add(Dense(int(encoding_dim / 2), activation='tanh'))\n",
        "model.add(Dense(input_dim, activation='relu'))\n",
        "\n",
        "model.summary()"
      ],
      "execution_count": 51,
      "outputs": [
        {
          "output_type": "stream",
          "text": [
            "Model: \"sequential_9\"\n",
            "_________________________________________________________________\n",
            "Layer (type)                 Output Shape              Param #   \n",
            "=================================================================\n",
            "dense_36 (Dense)             (None, 16)                480       \n",
            "_________________________________________________________________\n",
            "dense_37 (Dense)             (None, 8)                 136       \n",
            "_________________________________________________________________\n",
            "dense_38 (Dense)             (None, 8)                 72        \n",
            "_________________________________________________________________\n",
            "dense_39 (Dense)             (None, 29)                261       \n",
            "=================================================================\n",
            "Total params: 949\n",
            "Trainable params: 949\n",
            "Non-trainable params: 0\n",
            "_________________________________________________________________\n"
          ],
          "name": "stdout"
        }
      ]
    },
    {
      "cell_type": "markdown",
      "metadata": {
        "id": "UeOjQyNg2bJp"
      },
      "source": [
        "#Model Training\n",
        "\n",
        "Given such a simple model and relatively small data set, it might be faster to train without a GPU.\n",
        "\n"
      ]
    },
    {
      "cell_type": "code",
      "metadata": {
        "id": "jOKhiEuW2hh2",
        "colab": {
          "base_uri": "https://localhost:8080/"
        },
        "outputId": "bd722af2-794b-4056-acae-7f4c95007397"
      },
      "source": [
        "  nb_epoch = 40    #40\n",
        "batch_size = 32   #32\n",
        "\n",
        "model.compile(optimizer='adam', loss='mean_squared_error', metrics=['acc'])\n",
        "\n",
        "history = model.fit(X_train, X_train,\n",
        "                    epochs=nb_epoch,\n",
        "                    batch_size=batch_size,\n",
        "                    validation_data=(X_test, X_test),\n",
        "                    verbose=1)\n",
        "\n",
        "autoencoder = model\n",
        "score = model.evaluate(X_test, X_test, verbose=0)\n",
        "print('Test loss:', score[0])\n",
        "print('Test accuracy:', score[1])"
      ],
      "execution_count": 52,
      "outputs": [
        {
          "output_type": "stream",
          "text": [
            "Epoch 1/40\n",
            "750/750 [==============================] - 2s 2ms/step - loss: 1.1387 - acc: 0.2731 - val_loss: 0.9794 - val_acc: 0.4187\n",
            "Epoch 2/40\n",
            "750/750 [==============================] - 1s 1ms/step - loss: 0.9949 - acc: 0.4619 - val_loss: 0.9123 - val_acc: 0.5060\n",
            "Epoch 3/40\n",
            "750/750 [==============================] - 1s 1ms/step - loss: 0.9445 - acc: 0.5502 - val_loss: 0.8727 - val_acc: 0.5812\n",
            "Epoch 4/40\n",
            "750/750 [==============================] - 1s 1ms/step - loss: 0.9064 - acc: 0.6077 - val_loss: 0.8430 - val_acc: 0.6307\n",
            "Epoch 5/40\n",
            "750/750 [==============================] - 1s 1ms/step - loss: 0.8824 - acc: 0.6474 - val_loss: 0.8262 - val_acc: 0.6605\n",
            "Epoch 6/40\n",
            "750/750 [==============================] - 1s 1ms/step - loss: 0.8687 - acc: 0.6619 - val_loss: 0.8183 - val_acc: 0.6687\n",
            "Epoch 7/40\n",
            "750/750 [==============================] - 1s 1ms/step - loss: 0.8597 - acc: 0.6692 - val_loss: 0.8114 - val_acc: 0.6712\n",
            "Epoch 8/40\n",
            "750/750 [==============================] - 1s 1ms/step - loss: 0.8526 - acc: 0.6685 - val_loss: 0.8049 - val_acc: 0.6688\n",
            "Epoch 9/40\n",
            "750/750 [==============================] - 1s 1ms/step - loss: 0.8461 - acc: 0.6737 - val_loss: 0.7999 - val_acc: 0.6757\n",
            "Epoch 10/40\n",
            "750/750 [==============================] - 1s 1ms/step - loss: 0.8410 - acc: 0.6793 - val_loss: 0.7953 - val_acc: 0.6885\n",
            "Epoch 11/40\n",
            "750/750 [==============================] - 1s 1ms/step - loss: 0.8368 - acc: 0.6837 - val_loss: 0.7917 - val_acc: 0.6792\n",
            "Epoch 12/40\n",
            "750/750 [==============================] - 1s 1ms/step - loss: 0.8337 - acc: 0.6872 - val_loss: 0.7889 - val_acc: 0.6883\n",
            "Epoch 13/40\n",
            "750/750 [==============================] - 1s 1ms/step - loss: 0.8308 - acc: 0.6886 - val_loss: 0.7869 - val_acc: 0.6863\n",
            "Epoch 14/40\n",
            "750/750 [==============================] - 1s 1ms/step - loss: 0.8285 - acc: 0.6909 - val_loss: 0.7853 - val_acc: 0.6878\n",
            "Epoch 15/40\n",
            "750/750 [==============================] - 1s 1ms/step - loss: 0.8263 - acc: 0.6935 - val_loss: 0.7837 - val_acc: 0.6875\n",
            "Epoch 16/40\n",
            "750/750 [==============================] - 1s 1ms/step - loss: 0.8239 - acc: 0.6948 - val_loss: 0.7799 - val_acc: 0.6928\n",
            "Epoch 17/40\n",
            "750/750 [==============================] - 1s 1ms/step - loss: 0.8222 - acc: 0.6947 - val_loss: 0.7793 - val_acc: 0.6913\n",
            "Epoch 18/40\n",
            "750/750 [==============================] - 1s 1ms/step - loss: 0.8204 - acc: 0.6969 - val_loss: 0.7772 - val_acc: 0.6978\n",
            "Epoch 19/40\n",
            "750/750 [==============================] - 1s 2ms/step - loss: 0.8188 - acc: 0.6997 - val_loss: 0.7770 - val_acc: 0.6927\n",
            "Epoch 20/40\n",
            "750/750 [==============================] - 1s 1ms/step - loss: 0.8171 - acc: 0.7011 - val_loss: 0.7751 - val_acc: 0.7015\n",
            "Epoch 21/40\n",
            "750/750 [==============================] - 1s 1ms/step - loss: 0.8160 - acc: 0.7031 - val_loss: 0.7750 - val_acc: 0.6977\n",
            "Epoch 22/40\n",
            "750/750 [==============================] - 1s 1ms/step - loss: 0.8149 - acc: 0.7043 - val_loss: 0.7725 - val_acc: 0.7028\n",
            "Epoch 23/40\n",
            "750/750 [==============================] - 1s 1ms/step - loss: 0.8136 - acc: 0.7073 - val_loss: 0.7746 - val_acc: 0.7032\n",
            "Epoch 24/40\n",
            "750/750 [==============================] - 1s 1ms/step - loss: 0.8127 - acc: 0.7088 - val_loss: 0.7750 - val_acc: 0.7145\n",
            "Epoch 25/40\n",
            "750/750 [==============================] - 1s 2ms/step - loss: 0.8113 - acc: 0.7158 - val_loss: 0.7689 - val_acc: 0.7102\n",
            "Epoch 26/40\n",
            "750/750 [==============================] - 1s 1ms/step - loss: 0.8098 - acc: 0.7179 - val_loss: 0.7701 - val_acc: 0.7120\n",
            "Epoch 27/40\n",
            "750/750 [==============================] - 1s 1ms/step - loss: 0.8085 - acc: 0.7235 - val_loss: 0.7682 - val_acc: 0.7183\n",
            "Epoch 28/40\n",
            "750/750 [==============================] - 1s 2ms/step - loss: 0.8074 - acc: 0.7262 - val_loss: 0.7662 - val_acc: 0.7212\n",
            "Epoch 29/40\n",
            "750/750 [==============================] - 1s 1ms/step - loss: 0.8066 - acc: 0.7274 - val_loss: 0.7653 - val_acc: 0.7232\n",
            "Epoch 30/40\n",
            "750/750 [==============================] - 1s 1ms/step - loss: 0.8060 - acc: 0.7292 - val_loss: 0.7656 - val_acc: 0.7218\n",
            "Epoch 31/40\n",
            "750/750 [==============================] - 1s 1ms/step - loss: 0.8057 - acc: 0.7261 - val_loss: 0.7666 - val_acc: 0.7250\n",
            "Epoch 32/40\n",
            "750/750 [==============================] - 1s 1ms/step - loss: 0.8044 - acc: 0.7301 - val_loss: 0.7662 - val_acc: 0.7243\n",
            "Epoch 33/40\n",
            "750/750 [==============================] - 1s 2ms/step - loss: 0.8042 - acc: 0.7304 - val_loss: 0.7633 - val_acc: 0.7220\n",
            "Epoch 34/40\n",
            "750/750 [==============================] - 1s 1ms/step - loss: 0.8033 - acc: 0.7326 - val_loss: 0.7667 - val_acc: 0.7138\n",
            "Epoch 35/40\n",
            "750/750 [==============================] - 1s 1ms/step - loss: 0.8024 - acc: 0.7338 - val_loss: 0.7640 - val_acc: 0.7300\n",
            "Epoch 36/40\n",
            "750/750 [==============================] - 1s 1ms/step - loss: 0.8029 - acc: 0.7334 - val_loss: 0.7615 - val_acc: 0.7328\n",
            "Epoch 37/40\n",
            "750/750 [==============================] - 1s 1ms/step - loss: 0.8013 - acc: 0.7357 - val_loss: 0.7648 - val_acc: 0.7190\n",
            "Epoch 38/40\n",
            "750/750 [==============================] - 1s 1ms/step - loss: 0.8015 - acc: 0.7362 - val_loss: 0.7638 - val_acc: 0.7312\n",
            "Epoch 39/40\n",
            "750/750 [==============================] - 1s 1ms/step - loss: 0.8003 - acc: 0.7346 - val_loss: 0.7616 - val_acc: 0.7388\n",
            "Epoch 40/40\n",
            "750/750 [==============================] - 1s 1ms/step - loss: 0.8001 - acc: 0.7372 - val_loss: 0.7610 - val_acc: 0.7307\n",
            "Test loss: 0.760968804359436\n",
            "Test accuracy: 0.7306666374206543\n"
          ],
          "name": "stdout"
        }
      ]
    },
    {
      "cell_type": "markdown",
      "metadata": {
        "id": "29NU-T_x46Mn"
      },
      "source": [
        "#Model Performance\n",
        "\n",
        "A simple plot of model accuracy to confirm that it is learning something.\n",
        "\n"
      ]
    },
    {
      "cell_type": "code",
      "metadata": {
        "id": "x5mWoaLZ49Qi",
        "colab": {
          "base_uri": "https://localhost:8080/",
          "height": 295
        },
        "outputId": "7a48d055-f61f-4b23-f016-8401b645b04d"
      },
      "source": [
        "# summarize history for accuracy\n",
        "plt.plot(history.history['acc'])\n",
        "plt.plot(history.history['val_acc'])\n",
        "plt.title('Model accuracy')\n",
        "plt.ylabel('Accuracy')\n",
        "plt.xlabel('Epoch')\n",
        "plt.legend(['Train', 'Test'], loc='upper left')\n",
        "plt.show()"
      ],
      "execution_count": 53,
      "outputs": [
        {
          "output_type": "display_data",
          "data": {
            "image/png": "[encoded data removed]",
            "text/plain": [
              "<Figure size 432x288 with 1 Axes>"
            ]
          },
          "metadata": {
            "tags": [],
            "needs_background": "light"
          }
        }
      ]
    },
    {
      "cell_type": "markdown",
      "metadata": {
        "id": "Snco6z195EwD"
      },
      "source": [
        "#Prediction\n",
        "\n",
        "Predictions are made on the test set. The mean-squared error (MSE) is calculated between the test set and their predictions. If the MSE is high, it's a potential irregularity that might suggest fraud. It's not perfect, there will be false positives and false negatives.\n",
        "\n"
      ]
    },
    {
      "cell_type": "code",
      "metadata": {
        "id": "ScdDg-VX5WLy"
      },
      "source": [
        "predictions = autoencoder.predict(X_test)\n",
        "mse = np.mean(np.power(X_test - predictions, 2), axis=1)\n",
        "error_df = pd.DataFrame({'reconstruction_error': mse, 'true_class': y_test})"
      ],
      "execution_count": 54,
      "outputs": []
    },
    {
      "cell_type": "code",
      "metadata": {
        "id": "Ew79UVet5Ycl",
        "colab": {
          "base_uri": "https://localhost:8080/",
          "height": 204
        },
        "outputId": "5a947ff2-6212-4fd8-d3ad-778ae52486d7"
      },
      "source": [
        "error_df.head()\n"
      ],
      "execution_count": 55,
      "outputs": [
        {
          "output_type": "execute_result",
          "data": {
            "text/html": [
              "<div>\n",
              "<style scoped>\n",
              "    .dataframe tbody tr th:only-of-type {\n",
              "        vertical-align: middle;\n",
              "    }\n",
              "\n",
              "    .dataframe tbody tr th {\n",
              "        vertical-align: top;\n",
              "    }\n",
              "\n",
              "    .dataframe thead th {\n",
              "        text-align: right;\n",
              "    }\n",
              "</style>\n",
              "<table border=\"1\" class=\"dataframe\">\n",
              "  <thead>\n",
              "    <tr style=\"text-align: right;\">\n",
              "      <th></th>\n",
              "      <th>reconstruction_error</th>\n",
              "      <th>true_class</th>\n",
              "    </tr>\n",
              "  </thead>\n",
              "  <tbody>\n",
              "    <tr>\n",
              "      <th>8225</th>\n",
              "      <td>0.327150</td>\n",
              "      <td>0.0</td>\n",
              "    </tr>\n",
              "    <tr>\n",
              "      <th>10794</th>\n",
              "      <td>0.872783</td>\n",
              "      <td>0.0</td>\n",
              "    </tr>\n",
              "    <tr>\n",
              "      <th>9163</th>\n",
              "      <td>0.316748</td>\n",
              "      <td>0.0</td>\n",
              "    </tr>\n",
              "    <tr>\n",
              "      <th>26591</th>\n",
              "      <td>0.158622</td>\n",
              "      <td>0.0</td>\n",
              "    </tr>\n",
              "    <tr>\n",
              "      <th>6631</th>\n",
              "      <td>0.407375</td>\n",
              "      <td>0.0</td>\n",
              "    </tr>\n",
              "  </tbody>\n",
              "</table>\n",
              "</div>"
            ],
            "text/plain": [
              "       reconstruction_error  true_class\n",
              "8225               0.327150         0.0\n",
              "10794              0.872783         0.0\n",
              "9163               0.316748         0.0\n",
              "26591              0.158622         0.0\n",
              "6631               0.407375         0.0"
            ]
          },
          "metadata": {
            "tags": []
          },
          "execution_count": 55
        }
      ]
    },
    {
      "cell_type": "markdown",
      "metadata": {
        "id": "hyqqouVP5QU3"
      },
      "source": [
        "#Plot Reconstruction Error\n",
        "\n",
        "The reconstruction error for each sample is plotted long with a color code indicating known fraud. Only 6000 samples are plotted, but the index is randomly sampled from the original set, so the X-axis shows almost the full range of indices.\n",
        "\n"
      ]
    },
    {
      "cell_type": "code",
      "metadata": {
        "id": "FnN4GM_c5xqp",
        "colab": {
          "base_uri": "https://localhost:8080/",
          "height": 513
        },
        "outputId": "72c1a8a6-fc4b-47d5-c666-129cbe52c00d"
      },
      "source": [
        "threshold = 6.0\n",
        "\n",
        "groups = error_df.groupby('true_class')\n",
        "fig, ax = plt.subplots(figsize=(12, 8))\n",
        "\n",
        "for name, group in groups:\n",
        "    ax.plot(group.index, group.reconstruction_error, marker='o', ms=2.0, linestyle='',\n",
        "            label = \"Fraud\" if name == 1 else \"Normal\",\n",
        "            color = \"red\" if name == 1 else \"blue\")\n",
        "ax.hlines(threshold, ax.get_xlim()[0], ax.get_xlim()[1], colors=\"green\", zorder=100, label='Threshold')\n",
        "ax.legend()\n",
        "plt.title(\"Reconstruction error for different classes\")\n",
        "plt.ylabel(\"Reconstruction error\")\n",
        "plt.xlabel(\"Data point index\")\n",
        "plt.show();\n",
        "\n",
        "#above the green line (i.e threshold line) would be considered as fraud \n"
      ],
      "execution_count": 56,
      "outputs": [
        {
          "output_type": "display_data",
          "data": {
            "image/png": "[encoded data removed]",
            "text/plain": [
              "<Figure size 864x576 with 1 Axes>"
            ]
          },
          "metadata": {
            "tags": [],
            "needs_background": "light"
          }
        }
      ]
    },
    {
      "cell_type": "markdown",
      "metadata": {
        "id": "woLdcSpoG2Jo"
      },
      "source": [
        "#Analysis\n",
        "\n",
        "Given the known fraud transactions, we can determine the number of true/false positives and negatives. Ideally, there should be no false positives and false negatives, but this is an imperfect model. Let's see how well it does.\n",
        "\n"
      ]
    },
    {
      "cell_type": "code",
      "metadata": {
        "id": "d1HoUYiiG_c5",
        "colab": {
          "base_uri": "https://localhost:8080/"
        },
        "outputId": "1babc27d-7d6f-4d00-dac1-69fa1c6fceb4"
      },
      "source": [
        "normal = error_df[error_df.true_class == 0]\n",
        "fraud = error_df[error_df.true_class == 1]\n",
        "\n",
        "print('Normal transactions: %d, fraud transactions: %d' % (len(normal), len(fraud)))"
      ],
      "execution_count": 57,
      "outputs": [
        {
          "output_type": "stream",
          "text": [
            "Normal transactions: 5984, fraud transactions: 16\n"
          ],
          "name": "stdout"
        }
      ]
    },
    {
      "cell_type": "code",
      "metadata": {
        "id": "l2gxlvkBHJsM",
        "colab": {
          "base_uri": "https://localhost:8080/"
        },
        "outputId": "1b4cd48d-2b1b-4f94-b857-98ecef18dc83"
      },
      "source": [
        "true_positives = len(fraud[fraud.reconstruction_error >= threshold])\n",
        "false_positives = len(normal[normal.reconstruction_error >= threshold])\n",
        "\n",
        "true_negatives = len(normal[normal.reconstruction_error < threshold])\n",
        "false_negatives = len(fraud[fraud.reconstruction_error < threshold])\n",
        "\n",
        "print('True positives: %d, true negatives: %d' % (true_positives, true_negatives))\n",
        "print('False positives: %d, false negatives: %d' % (false_positives, false_negatives))"
      ],
      "execution_count": 58,
      "outputs": [
        {
          "output_type": "stream",
          "text": [
            "True positives: 10, true negatives: 5921\n",
            "False positives: 63, false negatives: 6\n"
          ],
          "name": "stdout"
        }
      ]
    },
    {
      "cell_type": "markdown",
      "metadata": {
        "id": "fmCee-eXMjA2"
      },
      "source": [
        "#Confusion Matrix\n",
        "\n",
        "The confusion matrix below shows the number of true/false positive/negatives. It's not perfect, but not too bad either.\n",
        "\n"
      ]
    },
    {
      "cell_type": "code",
      "metadata": {
        "id": "WnxNYgSpMmYI",
        "colab": {
          "base_uri": "https://localhost:8080/",
          "height": 350
        },
        "outputId": "7f5c38e1-991b-46d3-aa33-4ac818516990"
      },
      "source": [
        "labels = [\"Normal\", \"Fraud\"]\n",
        "\n",
        "y_pred = [1 if e > threshold else 0 for e in error_df.reconstruction_error.values]\n",
        "conf_matrix = confusion_matrix(error_df.true_class, y_pred)\n",
        "\n",
        "plt.figure(figsize=(6, 5))\n",
        "sns.heatmap(conf_matrix, xticklabels=labels, yticklabels=labels, annot=True, fmt=\"d\");\n",
        "plt.title(\"Confusion matrix\")\n",
        "plt.ylabel('True class')\n",
        "plt.xlabel('Predicted class')\n",
        "plt.show()"
      ],
      "execution_count": 59,
      "outputs": [
        {
          "output_type": "display_data",
          "data": {
            "image/png": "[encoded data removed]",
            "text/plain": [
              "<Figure size 432x360 with 2 Axes>"
            ]
          },
          "metadata": {
            "tags": [],
            "needs_background": "light"
          }
        }
      ]
    }
  ]
}